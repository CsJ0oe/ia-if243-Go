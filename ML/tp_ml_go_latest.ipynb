{
 "cells": [
  {
   "cell_type": "markdown",
   "metadata": {
    "colab_type": "text",
    "id": "-d8TGvJHm7l0"
   },
   "source": [
    "# Import du fichier d'exemples\n"
   ]
  },
  {
   "cell_type": "code",
   "execution_count": 0,
   "metadata": {
    "colab": {},
    "colab_type": "code",
    "id": "JvbLprL7m7l3"
   },
   "outputs": [],
   "source": [
    "def get_raw_data_go():\n",
    "    ''' Returns the set of samples from the local file or download it if it does not exists'''\n",
    "    import gzip, os.path\n",
    "    import json\n",
    "\n",
    "    raw_samples_file = \"samples-9x9.json.gz\"\n",
    "\n",
    "    if not os.path.isfile(raw_samples_file):\n",
    "        print(\"File\", raw_samples_file, \"not found, I am downloading it...\", end=\"\")\n",
    "        import urllib.request \n",
    "        urllib.request.urlretrieve (\"https://www.labri.fr/perso/lsimon/ia-inge2/samples-9x9.json.gz\", raw_samples_file)\n",
    "        print(\" Done\")\n",
    "\n",
    "    with gzip.open(raw_samples_file) as fz:\n",
    "        data = json.loads(fz.read().decode(\"utf-8\"))\n",
    "    return data"
   ]
  },
  {
   "cell_type": "code",
   "execution_count": 0,
   "metadata": {
    "colab": {
     "base_uri": "https://localhost:8080/",
     "height": 51
    },
    "colab_type": "code",
    "id": "3K7GK4VuoQ-k",
    "outputId": "8a149c78-61c2-4779-fb05-a0a8c43b18d0"
   },
   "outputs": [
    {
     "name": "stdout",
     "output_type": "stream",
     "text": [
      "File samples-9x9.json.gz not found, I am downloading it... Done\n",
      "We have 41563 examples\n"
     ]
    }
   ],
   "source": [
    "data = get_raw_data_go()\n",
    "print(\"We have\", len(data),\"examples\")"
   ]
  },
  {
   "cell_type": "markdown",
   "metadata": {
    "colab_type": "text",
    "id": "g0-2-MvFm7mS"
   },
   "source": [
    "# First steps: transform all the data into numpy arrays to feed your neural network\n",
    "\n"
   ]
  },
  {
   "cell_type": "code",
   "execution_count": 0,
   "metadata": {
    "colab": {},
    "colab_type": "code",
    "id": "88tQeXmcm7mT"
   },
   "outputs": [],
   "source": [
    "import numpy as np\n",
    "\n",
    "def name_to_coord(s):\n",
    "    assert s != \"PASS\"\n",
    "    indexLetters = {'A':0, 'B':1, 'C':2, 'D':3, 'E':4, 'F':5, 'G':6, 'H':7, 'J':8}\n",
    "\n",
    "    col = indexLetters[s[0]]\n",
    "    lin = int(s[1:]) - 1\n",
    "    return col, lin"
   ]
  },
  {
   "cell_type": "markdown",
   "metadata": {
    "colab_type": "text",
    "id": "Hxgi08M1namb"
   },
   "source": [
    "To encode the board to be able to use it as an input vector to feed our neural network, we implemented three encoder:\n",
    "- one plane encoder: is a simple matrix (one plane) of board size where white stones are represented as -1, black stones as 1 and 0 if it's empty.\n",
    "- two plane encoder:  One plane for black and one plane for white, with a 1 if there is a black stone for the first plane and with a 1 if there is a white stone for the second plane, as you proposed in the notebook.\n",
    "- three plane encoder: is similar to the two plane encoder except that we have added the third plane which represent the next player considering that the next player has an advantage over the other player.\n",
    "\n",
    "After comparasion between the three encoder, we have noted that the third one leds to better performance in prediction so we chose to use it.\n",
    "\n",
    "To enrich our dataset with all symmetries and rotations, the encoder doesn't encode the original dataset only but also it generates all the symmetries by using numpy.rot90() and numpy.flipud()."
   ]
  },
  {
   "cell_type": "code",
   "execution_count": 0,
   "metadata": {
    "colab": {},
    "colab_type": "code",
    "id": "dtMRkh1crZ2S"
   },
   "outputs": [],
   "source": [
    "def one_plane_encoder(data):\n",
    "  \"\"\"take as an input the json file and returns two arrays\n",
    "    the frist array is the board state and the second array \n",
    "    is the probabilities that black wins\n",
    "  \"\"\"\n",
    "  X = []\n",
    "  Y = []\n",
    "  for i in range(len(data)): \n",
    "      board = np.zeros((9,9), dtype=np.float32)\n",
    "      black = data[i][\"black_stones\"]\n",
    "      white = data[i][\"white_stones\"]\n",
    "      \n",
    "      for j in range(len(black)):\n",
    "          x,y = name_to_coord(black[j])\n",
    "          board[x,y] = 1\n",
    "      for j in range(len(white)):\n",
    "          x,y = name_to_coord(white[j])\n",
    "          board[x,y] = -1\n",
    "      X.append(board)\n",
    "      Y.append(data[i][\"black_wins\"]/data[i][\"rollouts\"])\n",
    "      \n",
    "      X.append(np.rot90(board, k=1))\n",
    "      Y.append(data[i][\"black_wins\"]/data[i][\"rollouts\"])\n",
    "      \n",
    "      X.append(np.rot90(board, k=2))\n",
    "      Y.append(data[i][\"black_wins\"]/data[i][\"rollouts\"])\n",
    "      \n",
    "      X.append(np.rot90(board, k=3))\n",
    "      Y.append(data[i][\"black_wins\"]/data[i][\"rollouts\"])\n",
    "      \n",
    "      board = np.flipud(board)\n",
    "      X.append(board)\n",
    "      Y.append(data[i][\"black_wins\"]/data[i][\"rollouts\"])\n",
    "      \n",
    "      X.append(np.rot90(board, k=1))\n",
    "      Y.append(data[i][\"black_wins\"]/data[i][\"rollouts\"])\n",
    "      \n",
    "      X.append(np.rot90(board, k=2))\n",
    "      Y.append(data[i][\"black_wins\"]/data[i][\"rollouts\"])\n",
    "      \n",
    "      X.append(np.rot90(board, k=3))\n",
    "      Y.append(data[i][\"black_wins\"]/data[i][\"rollouts\"])\n",
    "      \n",
    "  X_data = np.array(X)\n",
    "  Y_data = np.array(Y)\n",
    "  print(X_data.shape)\n",
    "  print(Y_data.shape)\n",
    "  return X_data, Y_data"
   ]
  },
  {
   "cell_type": "code",
   "execution_count": 0,
   "metadata": {
    "colab": {},
    "colab_type": "code",
    "id": "6zUJ59O6uY1g"
   },
   "outputs": [],
   "source": [
    "def two_planes_encoder(data):\n",
    "    \"\"\" take as an input the json file and returns two arrays\n",
    "    the frist array is the board state and the second array \n",
    "    is the probabilities that black wins\n",
    "    \"\"\"\n",
    "    X = []\n",
    "    Y = []\n",
    "    for i in range(len(data)): \n",
    "        black_stones = np.zeros((9,9), dtype=np.float32)\n",
    "        white_stones = np.zeros((9,9), dtype=np.float32)\n",
    "        black = data[i][\"black_stones\"]\n",
    "        white = data[i][\"white_stones\"]\n",
    "        \n",
    "        for j in range(len(black)):\n",
    "            x,y = name_to_coord(black[j])\n",
    "            black_stones[x,y] = 1\n",
    "        for j in range(len(white)):\n",
    "            x,y = name_to_coord(white[j])\n",
    "            white_stones[x,y] = 1\n",
    "        img = np.dstack((black_stones,white_stones))\n",
    "        X.append(img)\n",
    "        Y.append(data[i][\"black_wins\"]/data[i][\"rollouts\"])\n",
    "        \n",
    "        X.append(np.rot90(img, k=1, axes=(0,1)))\n",
    "        Y.append(data[i][\"black_wins\"]/data[i][\"rollouts\"])\n",
    "        \n",
    "        X.append(np.rot90(img, k=2, axes=(0,1)))\n",
    "        Y.append(data[i][\"black_wins\"]/data[i][\"rollouts\"])\n",
    "        \n",
    "        X.append(np.rot90(img, k=3, axes=(0,1)))\n",
    "        Y.append(data[i][\"black_wins\"]/data[i][\"rollouts\"])\n",
    "        \n",
    "        img = np.flipud(img)\n",
    "        X.append(img)\n",
    "        Y.append(data[i][\"black_wins\"]/data[i][\"rollouts\"])\n",
    "        \n",
    "        X.append(np.rot90(img, k=1, axes=(0,1)))\n",
    "        Y.append(data[i][\"black_wins\"]/data[i][\"rollouts\"])\n",
    "        \n",
    "        X.append(np.rot90(img, k=2, axes=(0,1)))\n",
    "        Y.append(data[i][\"black_wins\"]/data[i][\"rollouts\"])\n",
    "        \n",
    "        X.append(np.rot90(img, k=3, axes=(0,1)))\n",
    "        Y.append(data[i][\"black_wins\"]/data[i][\"rollouts\"])\n",
    "        \n",
    "    X_data = np.array(X)\n",
    "    Y_data = np.array(Y)\n",
    "    print(X_data.shape)\n",
    "    print(Y_data.shape)\n",
    "    return X_data, Y_data"
   ]
  },
  {
   "cell_type": "code",
   "execution_count": 0,
   "metadata": {
    "colab": {},
    "colab_type": "code",
    "id": "IDePyXgywGem"
   },
   "outputs": [],
   "source": [
    "def three_planes_encoder(data):\n",
    "    \"\"\"take as an input the json file and returns two arrays\n",
    "    the frist array is the board state and the second array \n",
    "    is the probabilities that black wins\n",
    "    \"\"\"\n",
    "    X = []\n",
    "    Y = []\n",
    "    for i in range(len(data)): \n",
    "        black_stones = np.zeros((9,9), dtype=np.float32)\n",
    "        white_stones = np.zeros((9,9), dtype=np.float32)\n",
    "        player_turn = np.zeros((9,9), dtype=np.float32)\n",
    "        black = data[i][\"black_stones\"]\n",
    "        white = data[i][\"white_stones\"]\n",
    "        \n",
    "        for j in range(len(black)):\n",
    "            x,y = name_to_coord(black[j])\n",
    "            black_stones[x,y] = 1\n",
    "        for j in range(len(white)):\n",
    "            x,y = name_to_coord(white[j])\n",
    "            white_stones[x,y] = 1\n",
    "        if (len(data[i][\"list_of_moves\"])%2 == 0):\n",
    "          # black turn 1, white turn 0\n",
    "          player_turn = np.ones((9,9), dtype=np.float32)\n",
    "        img = np.dstack((black_stones,white_stones,player_turn))\n",
    "        X.append(img)\n",
    "        Y.append(data[i][\"black_wins\"]/data[i][\"rollouts\"])\n",
    "        \n",
    "        X.append(np.rot90(img, k=1, axes=(0,1)))\n",
    "        Y.append(data[i][\"black_wins\"]/data[i][\"rollouts\"])\n",
    "        \n",
    "        X.append(np.rot90(img, k=2, axes=(0,1)))\n",
    "        Y.append(data[i][\"black_wins\"]/data[i][\"rollouts\"])\n",
    "        \n",
    "        X.append(np.rot90(img, k=3, axes=(0,1)))\n",
    "        Y.append(data[i][\"black_wins\"]/data[i][\"rollouts\"])\n",
    "        \n",
    "        img = np.flipud(img)\n",
    "        X.append(img)\n",
    "        Y.append(data[i][\"black_wins\"]/data[i][\"rollouts\"])\n",
    "        \n",
    "        X.append(np.rot90(img, k=1, axes=(0,1)))\n",
    "        Y.append(data[i][\"black_wins\"]/data[i][\"rollouts\"])\n",
    "        \n",
    "        X.append(np.rot90(img, k=2, axes=(0,1)))\n",
    "        Y.append(data[i][\"black_wins\"]/data[i][\"rollouts\"])\n",
    "        \n",
    "        X.append(np.rot90(img, k=3, axes=(0,1)))\n",
    "        Y.append(data[i][\"black_wins\"]/data[i][\"rollouts\"])\n",
    "        \n",
    "    X_data = np.array(X)\n",
    "    Y_data = np.array(Y)\n",
    "    print(X_data.shape)\n",
    "    print(Y_data.shape)\n",
    "    return X_data, Y_data"
   ]
  },
  {
   "cell_type": "code",
   "execution_count": 0,
   "metadata": {
    "colab": {
     "base_uri": "https://localhost:8080/",
     "height": 51
    },
    "colab_type": "code",
    "id": "shgZz9cKsP04",
    "outputId": "741ee09d-c346-4771-ff99-e50b423c6e1c"
   },
   "outputs": [
    {
     "name": "stdout",
     "output_type": "stream",
     "text": [
      "(332504, 9, 9, 3)\n",
      "(332504,)\n"
     ]
    }
   ],
   "source": [
    "X_data, Y_data = three_planes_encoder(data)\n",
    "#np.savez('./dataset', X=X_data, Y=Y_data)"
   ]
  },
  {
   "cell_type": "code",
   "execution_count": 0,
   "metadata": {
    "colab": {
     "base_uri": "https://localhost:8080/",
     "height": 51
    },
    "colab_type": "code",
    "id": "Xea6DzcR3upa",
    "outputId": "68951179-eb0b-40ce-d63a-4e52a39d7ce8"
   },
   "outputs": [
    {
     "name": "stdout",
     "output_type": "stream",
     "text": [
      "(299253, 9, 9, 3)\n",
      "(33251, 9, 9, 3)\n"
     ]
    }
   ],
   "source": [
    "from sklearn.model_selection import train_test_split\n",
    "X_train, X_test, Y_train, Y_test = train_test_split(X_data, Y_data, test_size=0.33)\n",
    "X_train = X_train.astype('float32')\n",
    "X_test = X_test.astype('float32')\n",
    "Y_train =Y_train.astype('float32')\n",
    "Y_test = Y_test.astype('float32')\n",
    "print(X_train.shape)\n",
    "print(X_test.shape)"
   ]
  },
  {
   "cell_type": "code",
   "execution_count": 0,
   "metadata": {
    "colab": {
     "base_uri": "https://localhost:8080/",
     "height": 282
    },
    "colab_type": "code",
    "id": "e5qj8KSf48j6",
    "outputId": "616acbad-97f7-45f9-e19f-7fa69bfd3d9b"
   },
   "outputs": [
    {
     "data": {
      "text/plain": [
       "<matplotlib.image.AxesImage at 0x7f3a375f1e10>"
      ]
     },
     "execution_count": 9,
     "metadata": {
      "tags": []
     },
     "output_type": "execute_result"
    },
    {
     "data": {
      "image/png": "[encoded data removed]",
      "text/plain": [
       "<Figure size 432x288 with 1 Axes>"
      ]
     },
     "metadata": {
      "needs_background": "light",
      "tags": []
     },
     "output_type": "display_data"
    }
   ],
   "source": [
    "%matplotlib inline\n",
    "import matplotlib.pyplot as plt\n",
    "plt.imshow(X_train[0])"
   ]
  },
  {
   "cell_type": "markdown",
   "metadata": {
    "colab_type": "text",
    "id": "ELl2z3tbm7mX"
   },
   "source": [
    "# Second steps: build your neural network and train it\n"
   ]
  },
  {
   "cell_type": "code",
   "execution_count": 0,
   "metadata": {
    "colab": {},
    "colab_type": "code",
    "id": "dM5g_tmMCc90"
   },
   "outputs": [],
   "source": [
    "def calculate_error(Y_pred,Y_test):\n",
    "  res = [0]*6\n",
    "  for i in range(len(Y_pred)):\n",
    "    val = abs(Y_pred[i]-Y_test[i])\n",
    "    if val <= 0.05:\n",
    "      res[0]+=1\n",
    "    elif val <= 0.10:\n",
    "      res[1]+=1\n",
    "    elif val <= 0.20:\n",
    "      res[2]+=1\n",
    "    elif val <= 0.35:\n",
    "      res[3]+=1\n",
    "    elif val <= 0.50:\n",
    "      res[4]+=1\n",
    "    else:\n",
    "      res[5]+=1\n",
    "  return [x / len(Y_pred) for x in res]"
   ]
  },
  {
   "cell_type": "markdown",
   "metadata": {
    "colab_type": "text",
    "id": "57jX9-em_wHj"
   },
   "source": [
    "## Important points in the model:\n",
    "- In the convolution layer, we added the attribut padding In order not to downsize the image because we don't want to ignore the stones on the borders.\n",
    "- for the activation function in the output layer, we chose sigmoid function because it exists between (0 to 1) and it is especially used for models where we have to predict the probability as an output. So we think it is the best choice in our case since we have to predict the probability that black wins.\n",
    "- To avoid the overfitting we used the technique of dropout.\n",
    "- for the metrics, we chose the MeanSquaredError and MeanAbsoluteError because they reflect how we want the loss to be calculated which the difference between the reel and predicted value."
   ]
  },
  {
   "cell_type": "code",
   "execution_count": 0,
   "metadata": {
    "colab": {
     "base_uri": "https://localhost:8080/",
     "height": 782
    },
    "colab_type": "code",
    "id": "kPj5zOq7m7mZ",
    "outputId": "484b1ec7-4832-4e76-bb18-81ee9e3b1fbc"
   },
   "outputs": [
    {
     "name": "stdout",
     "output_type": "stream",
     "text": [
      "Found GPU at: /device:GPU:0\n",
      "Model: \"sequential\"\n",
      "_________________________________________________________________\n",
      "Layer (type)                 Output Shape              Param #   \n",
      "=================================================================\n",
      "conv2d (Conv2D)              (None, 9, 9, 64)          4864      \n",
      "_________________________________________________________________\n",
      "dropout (Dropout)            (None, 9, 9, 64)          0         \n",
      "_________________________________________________________________\n",
      "batch_normalization (BatchNo (None, 9, 9, 64)          256       \n",
      "_________________________________________________________________\n",
      "conv2d_1 (Conv2D)            (None, 9, 9, 64)          36928     \n",
      "_________________________________________________________________\n",
      "dropout_1 (Dropout)          (None, 9, 9, 64)          0         \n",
      "_________________________________________________________________\n",
      "batch_normalization_1 (Batch (None, 9, 9, 64)          256       \n",
      "_________________________________________________________________\n",
      "conv2d_2 (Conv2D)            (None, 9, 9, 48)          27696     \n",
      "_________________________________________________________________\n",
      "dropout_2 (Dropout)          (None, 9, 9, 48)          0         \n",
      "_________________________________________________________________\n",
      "batch_normalization_2 (Batch (None, 9, 9, 48)          192       \n",
      "_________________________________________________________________\n",
      "conv2d_3 (Conv2D)            (None, 9, 9, 48)          20784     \n",
      "_________________________________________________________________\n",
      "dropout_3 (Dropout)          (None, 9, 9, 48)          0         \n",
      "_________________________________________________________________\n",
      "batch_normalization_3 (Batch (None, 9, 9, 48)          192       \n",
      "_________________________________________________________________\n",
      "flatten (Flatten)            (None, 3888)              0         \n",
      "_________________________________________________________________\n",
      "dense (Dense)                (None, 1024)              3982336   \n",
      "_________________________________________________________________\n",
      "dropout_4 (Dropout)          (None, 1024)              0         \n",
      "_________________________________________________________________\n",
      "dense_1 (Dense)              (None, 81)                83025     \n",
      "_________________________________________________________________\n",
      "dropout_5 (Dropout)          (None, 81)                0         \n",
      "_________________________________________________________________\n",
      "dense_2 (Dense)              (None, 1)                 82        \n",
      "=================================================================\n",
      "Total params: 4,156,611\n",
      "Trainable params: 4,156,163\n",
      "Non-trainable params: 448\n",
      "_________________________________________________________________\n"
     ]
    }
   ],
   "source": [
    "import tensorflow as tf\n",
    "import tensorflow.keras\n",
    "from tensorflow.keras.models import Sequential\n",
    "from tensorflow.keras.layers import Dense, Dropout, Activation, Flatten\n",
    "from tensorflow.keras.layers import Conv2D, BatchNormalization, MaxPooling2D\n",
    "\n",
    "device_name = tf.test.gpu_device_name()\n",
    "if device_name != '/device:GPU:0':\n",
    "  print('\\n\\nThis error most likely means that this notebook is not '\n",
    "        'configured to use a GPU.  Change this in Notebook Settings via the '\n",
    "        'command palette (cmd/ctrl-shift-P) or the Edit menu.\\n\\n')\n",
    "  raise SystemError('GPU device not found')\n",
    "print('Found GPU at: {}'.format(device_name))\n",
    "\n",
    "epochs = 200\n",
    "batch_size = 1024\n",
    "\n",
    "model = Sequential([\n",
    "    Conv2D(64, (5, 5), padding='same', activation = 'relu', data_format='channels_last', input_shape=(9,9,3)),\n",
    "    Dropout(rate=0.5),\n",
    "    BatchNormalization(),\n",
    "    Conv2D(64, (3, 3), padding='same', activation = 'relu', data_format='channels_last'),\n",
    "    Dropout(rate=0.5),\n",
    "    BatchNormalization(),\n",
    "    Conv2D(48, (3, 3), padding='same', activation = 'relu', data_format='channels_last'),\n",
    "    Dropout(rate=0.5),\n",
    "    BatchNormalization(),\n",
    "    Conv2D(48, (3, 3), padding='same', activation = 'relu', data_format='channels_last'),\n",
    "    Dropout(rate=0.5),\n",
    "    BatchNormalization(),\n",
    "    Flatten(),\n",
    "    Dense(1024, activation = 'relu'),\n",
    "    Dropout(rate=0.5),\n",
    "    Dense(81, activation = 'relu'),\n",
    "    Dropout(rate=0.5),\n",
    "    Dense(1, activation = 'sigmoid')\n",
    "])\n",
    "\n",
    "model.compile(loss='mse', optimizer='adam', metrics=['mse', 'mae'])\n",
    "\n",
    "model.summary()"
   ]
  },
  {
   "cell_type": "code",
   "execution_count": 0,
   "metadata": {
    "colab": {
     "base_uri": "https://localhost:8080/",
     "height": 1000
    },
    "colab_type": "code",
    "id": "3oQojFD09kEm",
    "outputId": "8429174c-d566-4c19-ae44-349ef4f8c4e7"
   },
   "outputs": [
    {
     "name": "stdout",
     "output_type": "stream",
     "text": [
      "Epoch 1/200\n",
      "325/325 [==============================] - 8s 23ms/step - loss: 0.0998 - mse: 0.0998 - mae: 0.2468\n",
      "Epoch 2/200\n",
      "325/325 [==============================] - 7s 23ms/step - loss: 0.0527 - mse: 0.0527 - mae: 0.1564\n",
      "Epoch 3/200\n",
      "325/325 [==============================] - 7s 23ms/step - loss: 0.0463 - mse: 0.0463 - mae: 0.1432\n",
      "Epoch 4/200\n",
      "325/325 [==============================] - 7s 23ms/step - loss: 0.0432 - mse: 0.0432 - mae: 0.1369\n",
      "Epoch 5/200\n",
      "325/325 [==============================] - 7s 23ms/step - loss: 0.0417 - mse: 0.0417 - mae: 0.1333\n",
      "Epoch 6/200\n",
      "325/325 [==============================] - 7s 23ms/step - loss: 0.0399 - mse: 0.0399 - mae: 0.1296\n",
      "Epoch 7/200\n",
      "325/325 [==============================] - 7s 23ms/step - loss: 0.0391 - mse: 0.0391 - mae: 0.1279\n",
      "Epoch 8/200\n",
      "325/325 [==============================] - 7s 23ms/step - loss: 0.0383 - mse: 0.0383 - mae: 0.1261\n",
      "Epoch 9/200\n",
      "325/325 [==============================] - 7s 23ms/step - loss: 0.0377 - mse: 0.0377 - mae: 0.1248\n",
      "Epoch 10/200\n",
      "325/325 [==============================] - 7s 23ms/step - loss: 0.0369 - mse: 0.0369 - mae: 0.1231\n",
      "Epoch 11/200\n",
      "325/325 [==============================] - 7s 23ms/step - loss: 0.0366 - mse: 0.0366 - mae: 0.1224\n",
      "Epoch 12/200\n",
      "325/325 [==============================] - 7s 23ms/step - loss: 0.0362 - mse: 0.0362 - mae: 0.1213\n",
      "Epoch 13/200\n",
      "325/325 [==============================] - 7s 23ms/step - loss: 0.0354 - mse: 0.0354 - mae: 0.1197\n",
      "Epoch 14/200\n",
      "325/325 [==============================] - 7s 23ms/step - loss: 0.0352 - mse: 0.0352 - mae: 0.1193\n",
      "Epoch 15/200\n",
      "325/325 [==============================] - 7s 23ms/step - loss: 0.0351 - mse: 0.0351 - mae: 0.1186\n",
      "Epoch 16/200\n",
      "325/325 [==============================] - 7s 23ms/step - loss: 0.0346 - mse: 0.0346 - mae: 0.1179\n",
      "Epoch 17/200\n",
      "325/325 [==============================] - 7s 23ms/step - loss: 0.0341 - mse: 0.0341 - mae: 0.1168\n",
      "Epoch 18/200\n",
      "325/325 [==============================] - 7s 23ms/step - loss: 0.0342 - mse: 0.0342 - mae: 0.1167\n",
      "Epoch 19/200\n",
      "325/325 [==============================] - 7s 23ms/step - loss: 0.0340 - mse: 0.0340 - mae: 0.1163\n",
      "Epoch 20/200\n",
      "325/325 [==============================] - 7s 23ms/step - loss: 0.0332 - mse: 0.0332 - mae: 0.1147\n",
      "Epoch 21/200\n",
      "325/325 [==============================] - 7s 23ms/step - loss: 0.0334 - mse: 0.0334 - mae: 0.1150\n",
      "Epoch 22/200\n",
      "325/325 [==============================] - 7s 23ms/step - loss: 0.0330 - mse: 0.0330 - mae: 0.1141\n",
      "Epoch 23/200\n",
      "325/325 [==============================] - 7s 23ms/step - loss: 0.0330 - mse: 0.0330 - mae: 0.1140\n",
      "Epoch 24/200\n",
      "325/325 [==============================] - 7s 23ms/step - loss: 0.0328 - mse: 0.0328 - mae: 0.1136\n",
      "Epoch 25/200\n",
      "325/325 [==============================] - 7s 23ms/step - loss: 0.0325 - mse: 0.0325 - mae: 0.1128\n",
      "Epoch 26/200\n",
      "325/325 [==============================] - 7s 23ms/step - loss: 0.0324 - mse: 0.0324 - mae: 0.1127\n",
      "Epoch 27/200\n",
      "325/325 [==============================] - 7s 23ms/step - loss: 0.0323 - mse: 0.0323 - mae: 0.1123\n",
      "Epoch 28/200\n",
      "325/325 [==============================] - 7s 23ms/step - loss: 0.0320 - mse: 0.0320 - mae: 0.1116\n",
      "Epoch 29/200\n",
      "325/325 [==============================] - 7s 23ms/step - loss: 0.0317 - mse: 0.0317 - mae: 0.1110\n",
      "Epoch 30/200\n",
      "325/325 [==============================] - 7s 23ms/step - loss: 0.0315 - mse: 0.0315 - mae: 0.1103\n",
      "Epoch 31/200\n",
      "325/325 [==============================] - 7s 23ms/step - loss: 0.0316 - mse: 0.0316 - mae: 0.1107\n",
      "Epoch 32/200\n",
      "325/325 [==============================] - 7s 23ms/step - loss: 0.0315 - mse: 0.0315 - mae: 0.1105\n",
      "Epoch 33/200\n",
      "325/325 [==============================] - 7s 23ms/step - loss: 0.0313 - mse: 0.0313 - mae: 0.1100\n",
      "Epoch 34/200\n",
      "325/325 [==============================] - 7s 23ms/step - loss: 0.0312 - mse: 0.0312 - mae: 0.1098\n",
      "Epoch 35/200\n",
      "325/325 [==============================] - 7s 23ms/step - loss: 0.0310 - mse: 0.0310 - mae: 0.1094\n",
      "Epoch 36/200\n",
      "325/325 [==============================] - 7s 23ms/step - loss: 0.0311 - mse: 0.0311 - mae: 0.1094\n",
      "Epoch 37/200\n",
      "325/325 [==============================] - 7s 23ms/step - loss: 0.0310 - mse: 0.0310 - mae: 0.1094\n",
      "Epoch 38/200\n",
      "325/325 [==============================] - 7s 23ms/step - loss: 0.0305 - mse: 0.0305 - mae: 0.1081\n",
      "Epoch 39/200\n",
      "325/325 [==============================] - 7s 23ms/step - loss: 0.0304 - mse: 0.0304 - mae: 0.1080\n",
      "Epoch 40/200\n",
      "325/325 [==============================] - 7s 23ms/step - loss: 0.0306 - mse: 0.0306 - mae: 0.1081\n",
      "Epoch 41/200\n",
      "325/325 [==============================] - 7s 23ms/step - loss: 0.0304 - mse: 0.0304 - mae: 0.1077\n",
      "Epoch 42/200\n",
      "325/325 [==============================] - 7s 23ms/step - loss: 0.0304 - mse: 0.0304 - mae: 0.1077\n",
      "Epoch 43/200\n",
      "325/325 [==============================] - 7s 23ms/step - loss: 0.0301 - mse: 0.0301 - mae: 0.1073\n",
      "Epoch 44/200\n",
      "325/325 [==============================] - 7s 23ms/step - loss: 0.0301 - mse: 0.0301 - mae: 0.1071\n",
      "Epoch 45/200\n",
      "325/325 [==============================] - 7s 23ms/step - loss: 0.0300 - mse: 0.0300 - mae: 0.1069\n",
      "Epoch 46/200\n",
      "325/325 [==============================] - 7s 23ms/step - loss: 0.0301 - mse: 0.0301 - mae: 0.1070\n",
      "Epoch 47/200\n",
      "325/325 [==============================] - 7s 23ms/step - loss: 0.0299 - mse: 0.0299 - mae: 0.1067\n",
      "Epoch 48/200\n",
      "325/325 [==============================] - 7s 23ms/step - loss: 0.0297 - mse: 0.0297 - mae: 0.1060\n",
      "Epoch 49/200\n",
      "325/325 [==============================] - 7s 23ms/step - loss: 0.0295 - mse: 0.0295 - mae: 0.1057\n",
      "Epoch 50/200\n",
      "325/325 [==============================] - 7s 23ms/step - loss: 0.0296 - mse: 0.0296 - mae: 0.1061\n",
      "Epoch 51/200\n",
      "325/325 [==============================] - 7s 23ms/step - loss: 0.0296 - mse: 0.0296 - mae: 0.1057\n",
      "Epoch 52/200\n",
      "325/325 [==============================] - 7s 23ms/step - loss: 0.0293 - mse: 0.0293 - mae: 0.1052\n",
      "Epoch 53/200\n",
      "325/325 [==============================] - 7s 23ms/step - loss: 0.0295 - mse: 0.0295 - mae: 0.1058\n",
      "Epoch 54/200\n",
      "325/325 [==============================] - 7s 23ms/step - loss: 0.0293 - mse: 0.0293 - mae: 0.1053\n",
      "Epoch 55/200\n",
      "325/325 [==============================] - 7s 23ms/step - loss: 0.0292 - mse: 0.0292 - mae: 0.1049\n",
      "Epoch 56/200\n",
      "325/325 [==============================] - 7s 23ms/step - loss: 0.0292 - mse: 0.0292 - mae: 0.1049\n",
      "Epoch 57/200\n",
      "325/325 [==============================] - 7s 23ms/step - loss: 0.0288 - mse: 0.0288 - mae: 0.1041\n",
      "Epoch 58/200\n",
      "325/325 [==============================] - 7s 23ms/step - loss: 0.0291 - mse: 0.0291 - mae: 0.1047\n",
      "Epoch 59/200\n",
      "325/325 [==============================] - 7s 23ms/step - loss: 0.0289 - mse: 0.0289 - mae: 0.1044\n",
      "Epoch 60/200\n",
      "325/325 [==============================] - 7s 23ms/step - loss: 0.0288 - mse: 0.0288 - mae: 0.1041\n",
      "Epoch 61/200\n",
      "325/325 [==============================] - 7s 23ms/step - loss: 0.0289 - mse: 0.0289 - mae: 0.1044\n",
      "Epoch 62/200\n",
      "325/325 [==============================] - 7s 23ms/step - loss: 0.0289 - mse: 0.0289 - mae: 0.1043\n",
      "Epoch 63/200\n",
      "325/325 [==============================] - 7s 23ms/step - loss: 0.0287 - mse: 0.0287 - mae: 0.1039\n",
      "Epoch 64/200\n",
      "325/325 [==============================] - 7s 23ms/step - loss: 0.0288 - mse: 0.0288 - mae: 0.1040\n",
      "Epoch 65/200\n",
      "325/325 [==============================] - 7s 23ms/step - loss: 0.0287 - mse: 0.0287 - mae: 0.1038\n",
      "Epoch 66/200\n",
      "325/325 [==============================] - 7s 23ms/step - loss: 0.0286 - mse: 0.0286 - mae: 0.1037\n",
      "Epoch 67/200\n",
      "325/325 [==============================] - 7s 23ms/step - loss: 0.0285 - mse: 0.0285 - mae: 0.1033\n",
      "Epoch 68/200\n",
      "325/325 [==============================] - 7s 23ms/step - loss: 0.0287 - mse: 0.0287 - mae: 0.1037\n",
      "Epoch 69/200\n",
      "325/325 [==============================] - 7s 23ms/step - loss: 0.0287 - mse: 0.0287 - mae: 0.1039\n",
      "Epoch 70/200\n",
      "325/325 [==============================] - 7s 23ms/step - loss: 0.0284 - mse: 0.0284 - mae: 0.1032\n",
      "Epoch 71/200\n",
      "325/325 [==============================] - 7s 23ms/step - loss: 0.0283 - mse: 0.0283 - mae: 0.1030\n",
      "Epoch 72/200\n",
      "325/325 [==============================] - 7s 23ms/step - loss: 0.0283 - mse: 0.0283 - mae: 0.1029\n",
      "Epoch 73/200\n",
      "325/325 [==============================] - 7s 23ms/step - loss: 0.0282 - mse: 0.0282 - mae: 0.1027\n",
      "Epoch 74/200\n",
      "325/325 [==============================] - 7s 23ms/step - loss: 0.0281 - mse: 0.0281 - mae: 0.1025\n",
      "Epoch 75/200\n",
      "325/325 [==============================] - 7s 23ms/step - loss: 0.0280 - mse: 0.0280 - mae: 0.1022\n",
      "Epoch 76/200\n",
      "325/325 [==============================] - 7s 23ms/step - loss: 0.0281 - mse: 0.0281 - mae: 0.1027\n",
      "Epoch 77/200\n",
      "325/325 [==============================] - 7s 23ms/step - loss: 0.0279 - mse: 0.0279 - mae: 0.1019\n",
      "Epoch 78/200\n",
      "325/325 [==============================] - 8s 23ms/step - loss: 0.0280 - mse: 0.0280 - mae: 0.1023\n",
      "Epoch 79/200\n",
      "325/325 [==============================] - 7s 23ms/step - loss: 0.0282 - mse: 0.0282 - mae: 0.1022\n",
      "Epoch 80/200\n",
      "325/325 [==============================] - 7s 23ms/step - loss: 0.0279 - mse: 0.0279 - mae: 0.1021\n",
      "Epoch 81/200\n",
      "325/325 [==============================] - 7s 23ms/step - loss: 0.0280 - mse: 0.0280 - mae: 0.1022\n",
      "Epoch 82/200\n",
      "325/325 [==============================] - 8s 23ms/step - loss: 0.0276 - mse: 0.0276 - mae: 0.1015\n",
      "Epoch 83/200\n",
      "325/325 [==============================] - 7s 23ms/step - loss: 0.0279 - mse: 0.0279 - mae: 0.1021\n",
      "Epoch 84/200\n",
      "325/325 [==============================] - 7s 23ms/step - loss: 0.0276 - mse: 0.0276 - mae: 0.1016\n",
      "Epoch 85/200\n",
      "325/325 [==============================] - 7s 23ms/step - loss: 0.0279 - mse: 0.0279 - mae: 0.1020\n",
      "Epoch 86/200\n",
      "325/325 [==============================] - 7s 23ms/step - loss: 0.0277 - mse: 0.0277 - mae: 0.1018\n",
      "Epoch 87/200\n",
      "325/325 [==============================] - 7s 23ms/step - loss: 0.0276 - mse: 0.0276 - mae: 0.1014\n",
      "Epoch 88/200\n",
      "325/325 [==============================] - 7s 23ms/step - loss: 0.0276 - mse: 0.0276 - mae: 0.1012\n",
      "Epoch 89/200\n",
      "325/325 [==============================] - 7s 23ms/step - loss: 0.0275 - mse: 0.0275 - mae: 0.1011\n",
      "Epoch 90/200\n",
      "325/325 [==============================] - 7s 23ms/step - loss: 0.0277 - mse: 0.0277 - mae: 0.1015\n",
      "Epoch 91/200\n",
      "325/325 [==============================] - 7s 23ms/step - loss: 0.0274 - mse: 0.0274 - mae: 0.1009\n",
      "Epoch 92/200\n",
      "325/325 [==============================] - 7s 23ms/step - loss: 0.0276 - mse: 0.0276 - mae: 0.1014\n",
      "Epoch 93/200\n",
      "325/325 [==============================] - 7s 23ms/step - loss: 0.0272 - mse: 0.0272 - mae: 0.1005\n",
      "Epoch 94/200\n",
      "325/325 [==============================] - 7s 23ms/step - loss: 0.0274 - mse: 0.0274 - mae: 0.1010\n",
      "Epoch 95/200\n",
      "325/325 [==============================] - 7s 23ms/step - loss: 0.0274 - mse: 0.0274 - mae: 0.1010\n",
      "Epoch 96/200\n",
      "325/325 [==============================] - 7s 23ms/step - loss: 0.0271 - mse: 0.0271 - mae: 0.1003\n",
      "Epoch 97/200\n",
      "325/325 [==============================] - 7s 23ms/step - loss: 0.0272 - mse: 0.0272 - mae: 0.1005\n",
      "Epoch 98/200\n",
      "325/325 [==============================] - 7s 23ms/step - loss: 0.0270 - mse: 0.0270 - mae: 0.1002\n",
      "Epoch 99/200\n",
      "325/325 [==============================] - 7s 23ms/step - loss: 0.0271 - mse: 0.0271 - mae: 0.1003\n",
      "Epoch 100/200\n",
      "325/325 [==============================] - 7s 23ms/step - loss: 0.0271 - mse: 0.0271 - mae: 0.1003\n",
      "Epoch 101/200\n",
      "325/325 [==============================] - 7s 23ms/step - loss: 0.0273 - mse: 0.0273 - mae: 0.1007\n",
      "Epoch 102/200\n",
      "325/325 [==============================] - 7s 23ms/step - loss: 0.0272 - mse: 0.0272 - mae: 0.1004\n",
      "Epoch 103/200\n",
      "325/325 [==============================] - 7s 23ms/step - loss: 0.0269 - mse: 0.0269 - mae: 0.1000\n",
      "Epoch 104/200\n",
      "325/325 [==============================] - 7s 23ms/step - loss: 0.0272 - mse: 0.0272 - mae: 0.1006\n",
      "Epoch 105/200\n",
      "325/325 [==============================] - 7s 23ms/step - loss: 0.0269 - mse: 0.0269 - mae: 0.0998\n",
      "Epoch 106/200\n",
      "325/325 [==============================] - 7s 23ms/step - loss: 0.0269 - mse: 0.0269 - mae: 0.0999\n",
      "Epoch 107/200\n",
      "325/325 [==============================] - 7s 23ms/step - loss: 0.0270 - mse: 0.0270 - mae: 0.1001\n",
      "Epoch 108/200\n",
      "325/325 [==============================] - 7s 23ms/step - loss: 0.0268 - mse: 0.0268 - mae: 0.0996\n",
      "Epoch 109/200\n",
      "325/325 [==============================] - 7s 23ms/step - loss: 0.0271 - mse: 0.0271 - mae: 0.1001\n",
      "Epoch 110/200\n",
      "325/325 [==============================] - 7s 23ms/step - loss: 0.0269 - mse: 0.0269 - mae: 0.0998\n",
      "Epoch 111/200\n",
      "325/325 [==============================] - 7s 23ms/step - loss: 0.0267 - mse: 0.0267 - mae: 0.0995\n",
      "Epoch 112/200\n",
      "325/325 [==============================] - 7s 23ms/step - loss: 0.0269 - mse: 0.0269 - mae: 0.0998\n",
      "Epoch 113/200\n",
      "325/325 [==============================] - 7s 23ms/step - loss: 0.0268 - mse: 0.0268 - mae: 0.0995\n",
      "Epoch 114/200\n",
      "325/325 [==============================] - 7s 23ms/step - loss: 0.0266 - mse: 0.0266 - mae: 0.0992\n",
      "Epoch 115/200\n",
      "325/325 [==============================] - 7s 23ms/step - loss: 0.0268 - mse: 0.0268 - mae: 0.0995\n",
      "Epoch 116/200\n",
      "325/325 [==============================] - 7s 23ms/step - loss: 0.0264 - mse: 0.0264 - mae: 0.0988\n",
      "Epoch 117/200\n",
      "325/325 [==============================] - 7s 23ms/step - loss: 0.0266 - mse: 0.0266 - mae: 0.0992\n",
      "Epoch 118/200\n",
      "325/325 [==============================] - 7s 23ms/step - loss: 0.0269 - mse: 0.0269 - mae: 0.0997\n",
      "Epoch 119/200\n",
      "325/325 [==============================] - 7s 23ms/step - loss: 0.0267 - mse: 0.0267 - mae: 0.0993\n",
      "Epoch 120/200\n",
      "325/325 [==============================] - 9s 27ms/step - loss: 0.0264 - mse: 0.0264 - mae: 0.0989\n",
      "Epoch 121/200\n",
      "325/325 [==============================] - 7s 23ms/step - loss: 0.0264 - mse: 0.0264 - mae: 0.0989\n",
      "Epoch 122/200\n",
      "325/325 [==============================] - 8s 23ms/step - loss: 0.0267 - mse: 0.0267 - mae: 0.0993\n",
      "Epoch 123/200\n",
      "325/325 [==============================] - 8s 23ms/step - loss: 0.0264 - mse: 0.0264 - mae: 0.0989\n",
      "Epoch 124/200\n",
      "325/325 [==============================] - 7s 23ms/step - loss: 0.0264 - mse: 0.0264 - mae: 0.0986\n",
      "Epoch 125/200\n",
      "325/325 [==============================] - 7s 23ms/step - loss: 0.0264 - mse: 0.0264 - mae: 0.0987\n",
      "Epoch 126/200\n",
      "325/325 [==============================] - 7s 23ms/step - loss: 0.0264 - mse: 0.0264 - mae: 0.0987\n",
      "Epoch 127/200\n",
      "325/325 [==============================] - 7s 23ms/step - loss: 0.0264 - mse: 0.0264 - mae: 0.0988\n",
      "Epoch 128/200\n",
      "325/325 [==============================] - 7s 23ms/step - loss: 0.0262 - mse: 0.0262 - mae: 0.0985\n",
      "Epoch 129/200\n",
      "325/325 [==============================] - 7s 23ms/step - loss: 0.0261 - mse: 0.0261 - mae: 0.0980\n",
      "Epoch 130/200\n",
      "325/325 [==============================] - 7s 23ms/step - loss: 0.0263 - mse: 0.0263 - mae: 0.0985\n",
      "Epoch 131/200\n",
      "325/325 [==============================] - 7s 23ms/step - loss: 0.0261 - mse: 0.0261 - mae: 0.0982\n",
      "Epoch 132/200\n",
      "325/325 [==============================] - 7s 23ms/step - loss: 0.0262 - mse: 0.0262 - mae: 0.0984\n",
      "Epoch 133/200\n",
      "325/325 [==============================] - 7s 23ms/step - loss: 0.0262 - mse: 0.0262 - mae: 0.0984\n",
      "Epoch 134/200\n",
      "325/325 [==============================] - 7s 23ms/step - loss: 0.0262 - mse: 0.0262 - mae: 0.0981\n",
      "Epoch 135/200\n",
      "325/325 [==============================] - 7s 23ms/step - loss: 0.0261 - mse: 0.0261 - mae: 0.0982\n",
      "Epoch 136/200\n",
      "325/325 [==============================] - 7s 23ms/step - loss: 0.0261 - mse: 0.0261 - mae: 0.0982\n",
      "Epoch 137/200\n",
      "325/325 [==============================] - 7s 23ms/step - loss: 0.0260 - mse: 0.0260 - mae: 0.0980\n",
      "Epoch 138/200\n",
      "325/325 [==============================] - 7s 23ms/step - loss: 0.0259 - mse: 0.0259 - mae: 0.0980\n",
      "Epoch 139/200\n",
      "325/325 [==============================] - 7s 23ms/step - loss: 0.0259 - mse: 0.0259 - mae: 0.0978\n",
      "Epoch 140/200\n",
      "325/325 [==============================] - 7s 23ms/step - loss: 0.0259 - mse: 0.0259 - mae: 0.0975\n",
      "Epoch 141/200\n",
      "325/325 [==============================] - 7s 23ms/step - loss: 0.0262 - mse: 0.0262 - mae: 0.0982\n",
      "Epoch 142/200\n",
      "325/325 [==============================] - 7s 23ms/step - loss: 0.0259 - mse: 0.0259 - mae: 0.0979\n",
      "Epoch 143/200\n",
      "325/325 [==============================] - 7s 23ms/step - loss: 0.0259 - mse: 0.0259 - mae: 0.0979\n",
      "Epoch 144/200\n",
      "325/325 [==============================] - 7s 23ms/step - loss: 0.0257 - mse: 0.0257 - mae: 0.0973\n",
      "Epoch 145/200\n",
      "325/325 [==============================] - 7s 23ms/step - loss: 0.0260 - mse: 0.0260 - mae: 0.0978\n",
      "Epoch 146/200\n",
      "325/325 [==============================] - 7s 23ms/step - loss: 0.0260 - mse: 0.0260 - mae: 0.0977\n",
      "Epoch 147/200\n",
      "325/325 [==============================] - 7s 23ms/step - loss: 0.0257 - mse: 0.0257 - mae: 0.0974\n",
      "Epoch 148/200\n",
      "325/325 [==============================] - 7s 23ms/step - loss: 0.0259 - mse: 0.0259 - mae: 0.0978\n",
      "Epoch 149/200\n",
      "325/325 [==============================] - 7s 23ms/step - loss: 0.0258 - mse: 0.0258 - mae: 0.0975\n",
      "Epoch 150/200\n",
      "325/325 [==============================] - 7s 23ms/step - loss: 0.0258 - mse: 0.0258 - mae: 0.0973\n",
      "Epoch 151/200\n",
      "325/325 [==============================] - 7s 23ms/step - loss: 0.0258 - mse: 0.0258 - mae: 0.0976\n",
      "Epoch 152/200\n",
      "325/325 [==============================] - 7s 23ms/step - loss: 0.0257 - mse: 0.0257 - mae: 0.0972\n",
      "Epoch 153/200\n",
      "325/325 [==============================] - 7s 23ms/step - loss: 0.0256 - mse: 0.0256 - mae: 0.0972\n",
      "Epoch 154/200\n",
      "325/325 [==============================] - 7s 23ms/step - loss: 0.0255 - mse: 0.0255 - mae: 0.0967\n",
      "Epoch 155/200\n",
      "325/325 [==============================] - 7s 23ms/step - loss: 0.0256 - mse: 0.0256 - mae: 0.0970\n",
      "Epoch 156/200\n",
      "325/325 [==============================] - 7s 23ms/step - loss: 0.0255 - mse: 0.0255 - mae: 0.0969\n",
      "Epoch 157/200\n",
      "325/325 [==============================] - 7s 23ms/step - loss: 0.0257 - mse: 0.0257 - mae: 0.0973\n",
      "Epoch 158/200\n",
      "325/325 [==============================] - 7s 23ms/step - loss: 0.0258 - mse: 0.0258 - mae: 0.0973\n",
      "Epoch 159/200\n",
      "325/325 [==============================] - 7s 23ms/step - loss: 0.0253 - mse: 0.0253 - mae: 0.0966\n",
      "Epoch 160/200\n",
      "325/325 [==============================] - 7s 23ms/step - loss: 0.0254 - mse: 0.0254 - mae: 0.0965\n",
      "Epoch 161/200\n",
      "325/325 [==============================] - 8s 23ms/step - loss: 0.0253 - mse: 0.0253 - mae: 0.0967\n",
      "Epoch 162/200\n",
      "325/325 [==============================] - 7s 23ms/step - loss: 0.0254 - mse: 0.0254 - mae: 0.0968\n",
      "Epoch 163/200\n",
      "325/325 [==============================] - 8s 23ms/step - loss: 0.0255 - mse: 0.0255 - mae: 0.0968\n",
      "Epoch 164/200\n",
      "325/325 [==============================] - 8s 23ms/step - loss: 0.0253 - mse: 0.0253 - mae: 0.0966\n",
      "Epoch 165/200\n",
      "325/325 [==============================] - 7s 23ms/step - loss: 0.0253 - mse: 0.0253 - mae: 0.0966\n",
      "Epoch 166/200\n",
      "325/325 [==============================] - 7s 23ms/step - loss: 0.0254 - mse: 0.0254 - mae: 0.0966\n",
      "Epoch 167/200\n",
      "325/325 [==============================] - 7s 23ms/step - loss: 0.0254 - mse: 0.0254 - mae: 0.0967\n",
      "Epoch 168/200\n",
      "325/325 [==============================] - 7s 23ms/step - loss: 0.0252 - mse: 0.0252 - mae: 0.0965\n",
      "Epoch 169/200\n",
      "325/325 [==============================] - 7s 23ms/step - loss: 0.0254 - mse: 0.0254 - mae: 0.0966\n",
      "Epoch 170/200\n",
      "325/325 [==============================] - 7s 23ms/step - loss: 0.0253 - mse: 0.0253 - mae: 0.0965\n",
      "Epoch 171/200\n",
      "325/325 [==============================] - 7s 23ms/step - loss: 0.0253 - mse: 0.0253 - mae: 0.0965\n",
      "Epoch 172/200\n",
      "325/325 [==============================] - 7s 23ms/step - loss: 0.0252 - mse: 0.0252 - mae: 0.0964\n",
      "Epoch 173/200\n",
      "325/325 [==============================] - 7s 23ms/step - loss: 0.0252 - mse: 0.0252 - mae: 0.0963\n",
      "Epoch 174/200\n",
      "325/325 [==============================] - 7s 23ms/step - loss: 0.0251 - mse: 0.0251 - mae: 0.0962\n",
      "Epoch 175/200\n",
      "325/325 [==============================] - 7s 23ms/step - loss: 0.0254 - mse: 0.0254 - mae: 0.0965\n",
      "Epoch 176/200\n",
      "325/325 [==============================] - 7s 23ms/step - loss: 0.0251 - mse: 0.0251 - mae: 0.0960\n",
      "Epoch 177/200\n",
      "325/325 [==============================] - 7s 23ms/step - loss: 0.0251 - mse: 0.0251 - mae: 0.0961\n",
      "Epoch 178/200\n",
      "325/325 [==============================] - 7s 23ms/step - loss: 0.0251 - mse: 0.0251 - mae: 0.0962\n",
      "Epoch 179/200\n",
      "325/325 [==============================] - 7s 23ms/step - loss: 0.0250 - mse: 0.0250 - mae: 0.0958\n",
      "Epoch 180/200\n",
      "325/325 [==============================] - 7s 23ms/step - loss: 0.0250 - mse: 0.0250 - mae: 0.0957\n",
      "Epoch 181/200\n",
      "325/325 [==============================] - 7s 23ms/step - loss: 0.0250 - mse: 0.0250 - mae: 0.0959\n",
      "Epoch 182/200\n",
      "325/325 [==============================] - 7s 23ms/step - loss: 0.0253 - mse: 0.0253 - mae: 0.0964\n",
      "Epoch 183/200\n",
      "325/325 [==============================] - 7s 23ms/step - loss: 0.0249 - mse: 0.0249 - mae: 0.0957\n",
      "Epoch 184/200\n",
      "325/325 [==============================] - 7s 23ms/step - loss: 0.0249 - mse: 0.0249 - mae: 0.0957\n",
      "Epoch 185/200\n",
      "325/325 [==============================] - 7s 23ms/step - loss: 0.0248 - mse: 0.0248 - mae: 0.0955\n",
      "Epoch 186/200\n",
      "325/325 [==============================] - 7s 23ms/step - loss: 0.0250 - mse: 0.0250 - mae: 0.0957\n",
      "Epoch 187/200\n",
      "325/325 [==============================] - 7s 23ms/step - loss: 0.0250 - mse: 0.0250 - mae: 0.0958\n",
      "Epoch 188/200\n",
      "325/325 [==============================] - 7s 23ms/step - loss: 0.0248 - mse: 0.0248 - mae: 0.0956\n",
      "Epoch 189/200\n",
      "325/325 [==============================] - 7s 23ms/step - loss: 0.0249 - mse: 0.0249 - mae: 0.0956\n",
      "Epoch 190/200\n",
      "325/325 [==============================] - 7s 23ms/step - loss: 0.0249 - mse: 0.0249 - mae: 0.0956\n",
      "Epoch 191/200\n",
      "325/325 [==============================] - 7s 23ms/step - loss: 0.0249 - mse: 0.0249 - mae: 0.0953\n",
      "Epoch 192/200\n",
      "325/325 [==============================] - 7s 23ms/step - loss: 0.0248 - mse: 0.0248 - mae: 0.0955\n",
      "Epoch 193/200\n",
      "325/325 [==============================] - 7s 23ms/step - loss: 0.0249 - mse: 0.0249 - mae: 0.0956\n",
      "Epoch 194/200\n",
      "325/325 [==============================] - 7s 23ms/step - loss: 0.0249 - mse: 0.0249 - mae: 0.0956\n",
      "Epoch 195/200\n",
      "325/325 [==============================] - 7s 23ms/step - loss: 0.0249 - mse: 0.0249 - mae: 0.0956\n",
      "Epoch 196/200\n",
      "325/325 [==============================] - 7s 23ms/step - loss: 0.0246 - mse: 0.0246 - mae: 0.0951\n",
      "Epoch 197/200\n",
      "325/325 [==============================] - 7s 23ms/step - loss: 0.0249 - mse: 0.0249 - mae: 0.0956\n",
      "Epoch 198/200\n",
      "325/325 [==============================] - 7s 23ms/step - loss: 0.0248 - mse: 0.0248 - mae: 0.0954\n",
      "Epoch 199/200\n",
      "325/325 [==============================] - 7s 23ms/step - loss: 0.0247 - mse: 0.0247 - mae: 0.0951\n",
      "Epoch 200/200\n",
      "325/325 [==============================] - 7s 23ms/step - loss: 0.0248 - mse: 0.0248 - mae: 0.0956\n"
     ]
    }
   ],
   "source": [
    "history = model.fit(X_data, Y_data, \n",
    "                    batch_size=batch_size, \n",
    "                    epochs=epochs, verbose=1)"
   ]
  },
  {
   "cell_type": "code",
   "execution_count": 0,
   "metadata": {
    "colab": {
     "base_uri": "https://localhost:8080/",
     "height": 119
    },
    "colab_type": "code",
    "id": "9QOIvW90oPvq",
    "outputId": "1fbbea7a-ac66-4a1a-e1a3-3fd43c6cd3c0"
   },
   "outputs": [
    {
     "name": "stdout",
     "output_type": "stream",
     "text": [
      "0.51\n",
      "0.19\n",
      "0.20\n",
      "0.07\n",
      "0.02\n",
      "0.01\n"
     ]
    }
   ],
   "source": [
    "res = calculate_error(model.predict(X_test),Y_test)\n",
    "for i in range(6):\n",
    "  print(\"%.2f\" % (res[i]))"
   ]
  },
  {
   "cell_type": "code",
   "execution_count": 0,
   "metadata": {
    "colab": {
     "base_uri": "https://localhost:8080/",
     "height": 369
    },
    "colab_type": "code",
    "id": "TQrLMuPBy7oF",
    "outputId": "b0afb02f-84d9-4244-8ca4-dae9d5770aaf"
   },
   "outputs": [
    {
     "data": {
      "image/png": "[encoded data removed]",
      "text/plain": [
       "<Figure size 1080x360 with 2 Axes>"
      ]
     },
     "metadata": {
      "needs_background": "light",
      "tags": []
     },
     "output_type": "display_data"
    }
   ],
   "source": [
    "%matplotlib inline\n",
    "import matplotlib.pyplot as plt\n",
    "\n",
    "fig, axes = plt.subplots(nrows=1, ncols=2, figsize=(15, 5))\n",
    "#axes[0].title('mae')\n",
    "axes[0].plot(history.history['mae'], 'g')\n",
    "#axes[0].plot(history.history['val_mae'], 'r')\n",
    "#axes[1].title('mse')\n",
    "axes[1].plot(history.history['mse'], 'g')\n",
    "#axes[1].plot(history.history['val_mse'], 'r')\n",
    "fig.tight_layout()"
   ]
  },
  {
   "cell_type": "markdown",
   "metadata": {
    "colab_type": "text",
    "id": "5oGzjuj5m7md"
   },
   "source": [
    "# Last step\n",
    "\n",
    "Prepare your model to predict the set of new data to predict, you will have only 6 hours to push your predictions.\n",
    "\n",
    "(may be you would like to express, when guessing the percentage of wins for blacks, that it should reflect the fact that this score should be the same for all the symmetries you considered)...\n"
   ]
  },
  {
   "cell_type": "code",
   "execution_count": 0,
   "metadata": {
    "colab": {},
    "colab_type": "code",
    "id": "eq_vUZurAbXW"
   },
   "outputs": [],
   "source": [
    "def get_raw_data_go_prediction():\n",
    "    ''' Returns the set of samples from the local file or download it if it does not exists'''\n",
    "    import gzip, os.path\n",
    "    import json\n",
    "\n",
    "    raw_samples_file = \"positions-to-evaluate-9x9-attempt.json.gz\"\n",
    "\n",
    "    if not os.path.isfile(raw_samples_file):\n",
    "        print(\"File\", raw_samples_file, \"not found, I am downloading it...\", end=\"\")\n",
    "        import urllib.request \n",
    "        urllib.request.urlretrieve (\"https://www.labri.fr/perso/lsimon/ia-inge2/positions-to-evaluate-9x9.json.gz\", raw_samples_file)\n",
    "        print(\" Done\")\n",
    "\n",
    "    with gzip.open(raw_samples_file) as fz:\n",
    "        data = json.loads(fz.read().decode(\"utf-8\"))\n",
    "    return data"
   ]
  },
  {
   "cell_type": "code",
   "execution_count": 0,
   "metadata": {
    "colab": {},
    "colab_type": "code",
    "id": "ZmyMPxWgAe9O"
   },
   "outputs": [],
   "source": [
    "def three_planes_encoder_prediction(data):\n",
    "    X = []\n",
    "    for i in range(len(data)): \n",
    "        black_stones = np.zeros((9,9), dtype=np.float32)\n",
    "        white_stones = np.zeros((9,9), dtype=np.float32)\n",
    "        player_turn = np.zeros((9,9), dtype=np.float32)\n",
    "        black = data[i][\"black_stones\"]\n",
    "        white = data[i][\"white_stones\"]\n",
    "        for j in range(len(black)):\n",
    "            x,y = name_to_coord(black[j])\n",
    "            black_stones[x,y] = 1\n",
    "        for j in range(len(white)):\n",
    "            x,y = name_to_coord(white[j])\n",
    "            white_stones[x,y] = 1\n",
    "        if (len(data[i][\"list_of_moves\"])%2 == 0):\n",
    "          # black turn 1, white turn 0\n",
    "          player_turn = np.ones((9,9), dtype=np.float32)\n",
    "        img = np.dstack((black_stones,white_stones,player_turn))\n",
    "        X.append(img)\n",
    "    X_data = np.array(X)\n",
    "    print(X_data.shape)\n",
    "    return X_data"
   ]
  },
  {
   "cell_type": "code",
   "execution_count": 0,
   "metadata": {
    "colab": {},
    "colab_type": "code",
    "id": "R7ye7F7SAh4_"
   },
   "outputs": [],
   "source": [
    "def create_result_file(newdata):\n",
    "    ''' Exemple de méthode permettant de générer le fichier de resultats demandés. '''\n",
    "    y_predicted = model.predict(newdata)\n",
    "    with open(\"my_predictions.txt\", \"w\") as f:\n",
    "         for i in range(len(y_predicted)):\n",
    "           p = y_predicted[i][0]\n",
    "           f.write(str(p)+\"\\n\")"
   ]
  },
  {
   "cell_type": "code",
   "execution_count": 0,
   "metadata": {
    "colab": {
     "base_uri": "https://localhost:8080/",
     "height": 51
    },
    "colab_type": "code",
    "id": "mkEUxwrlAiXk",
    "outputId": "d3edcc04-42e2-45bf-b1f8-8e24921ad0ad"
   },
   "outputs": [
    {
     "name": "stdout",
     "output_type": "stream",
     "text": [
      "File positions-to-evaluate-9x9-attempt.json.gz not found, I am downloading it... Done\n",
      "(1000, 9, 9, 3)\n"
     ]
    }
   ],
   "source": [
    "data_to_predict = get_raw_data_go_prediction()\n",
    "x_to_predict = three_planes_encoder_prediction(data_to_predict)\n",
    "x_to_predict = x_to_predict.astype('float32')\n",
    "create_result_file(x_to_predict)"
   ]
  }
 ],
 "metadata": {
  "accelerator": "GPU",
  "colab": {
   "collapsed_sections": [],
   "name": "tp-ml-go-latest.ipynb",
   "provenance": []
  },
  "kernelspec": {
   "display_name": "Python 3",
   "language": "python",
   "name": "python3"
  },
  "language_info": {
   "codemirror_mode": {
    "name": "ipython",
    "version": 3
   },
   "file_extension": ".py",
   "mimetype": "text/x-python",
   "name": "python",
   "nbconvert_exporter": "python",
   "pygments_lexer": "ipython3",
   "version": "3.7.4"
  }
 },
 "nbformat": 4,
 "nbformat_minor": 1
}
